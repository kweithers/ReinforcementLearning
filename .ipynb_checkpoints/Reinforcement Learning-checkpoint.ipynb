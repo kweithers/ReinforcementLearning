{
 "cells": [
  {
   "cell_type": "markdown",
   "metadata": {},
   "source": [
    "# Reinforcement Learning\n",
    "\n",
    "### Deep Contextual Multi Armed Bandits\n",
    "\n",
    "This notebook builds out one of the example problems (Section 4.1 - The Mushroom Task) from the following paper. \n",
    "\n",
    "https://arxiv.org/pdf/1807.09809.pdf\n",
    "\n",
    "Before reading this paper, it will helpful to be familiar with Thompson Sampling, a method for solving a multi-armed bandit style problem.\n",
    "\n",
    "From the previous paper:\n",
    "\n",
    "> \"Thomson sampling [27] is a heuristic for trading off exploration and exploitation when using a parametric likelihood \n",
    "$P(r | a,x,w)$ function and a posterior on the parameters $P(w | {x,a,r})$. At each timestep we sample\n",
    "$w ~= P(w | {x,a,r})$ and then choose the action with highest expected reward $P(r | a,x,w)$. Thompson sampling has been shown to be a very effective heuristic for managing this trade-off [1, 10].\n",
    "\n",
    "https://web.stanford.edu/~bvr/pubs/TS_Tutorial.pdf"
   ]
  },
  {
   "cell_type": "markdown",
   "metadata": {},
   "source": [
    "#### The Mushroom Task Dataset\n",
    "\n",
    "This is a UCI dataset with several categorical variables describing mushrooms. The target variable is a binary 0/1 meaning poisonous or safe to eat.\n",
    "\n",
    "Here is a link to the dataset: https://archive.ics.uci.edu/ml/datasets/mushroom\n",
    "\n",
    "Let's read in the data and create dummy variables for all of the features."
   ]
  },
  {
   "cell_type": "code",
   "execution_count": 1,
   "metadata": {},
   "outputs": [
    {
     "name": "stderr",
     "output_type": "stream",
     "text": [
      "Using TensorFlow backend.\n"
     ]
    }
   ],
   "source": [
    "import pandas as pd\n",
    "import random\n",
    "from copy import deepcopy\n",
    "import scipy\n",
    "import seaborn as sns\n",
    "%matplotlib inline\n",
    "\n",
    "from sklearn.model_selection import train_test_split\n",
    "from keras.models import Sequential\n",
    "from keras.layers import Dense, Dropout\n",
    "from ConcreteDropout import *\n",
    "\n",
    "df = pd.read_csv('mushroom_dataset.csv',header=None)\n",
    "\n",
    "# 1 for safe, 0 for poisonous\n",
    "df['target'] = 0\n",
    "df.loc[df[0] == 'e', 'target'] = 1\n",
    "df = df.drop(0,axis=1)\n",
    "df = pd.get_dummies(df)"
   ]
  },
  {
   "cell_type": "code",
   "execution_count": 2,
   "metadata": {},
   "outputs": [
    {
     "data": {
      "text/html": [
       "<div>\n",
       "<style scoped>\n",
       "    .dataframe tbody tr th:only-of-type {\n",
       "        vertical-align: middle;\n",
       "    }\n",
       "\n",
       "    .dataframe tbody tr th {\n",
       "        vertical-align: top;\n",
       "    }\n",
       "\n",
       "    .dataframe thead th {\n",
       "        text-align: right;\n",
       "    }\n",
       "</style>\n",
       "<table border=\"1\" class=\"dataframe\">\n",
       "  <thead>\n",
       "    <tr style=\"text-align: right;\">\n",
       "      <th></th>\n",
       "      <th>target</th>\n",
       "      <th>1_b</th>\n",
       "      <th>1_c</th>\n",
       "      <th>1_f</th>\n",
       "      <th>1_k</th>\n",
       "      <th>1_s</th>\n",
       "      <th>1_x</th>\n",
       "      <th>2_f</th>\n",
       "      <th>2_g</th>\n",
       "      <th>2_s</th>\n",
       "      <th>...</th>\n",
       "      <th>21_s</th>\n",
       "      <th>21_v</th>\n",
       "      <th>21_y</th>\n",
       "      <th>22_d</th>\n",
       "      <th>22_g</th>\n",
       "      <th>22_l</th>\n",
       "      <th>22_m</th>\n",
       "      <th>22_p</th>\n",
       "      <th>22_u</th>\n",
       "      <th>22_w</th>\n",
       "    </tr>\n",
       "  </thead>\n",
       "  <tbody>\n",
       "    <tr>\n",
       "      <th>0</th>\n",
       "      <td>0</td>\n",
       "      <td>0</td>\n",
       "      <td>0</td>\n",
       "      <td>0</td>\n",
       "      <td>0</td>\n",
       "      <td>0</td>\n",
       "      <td>1</td>\n",
       "      <td>0</td>\n",
       "      <td>0</td>\n",
       "      <td>1</td>\n",
       "      <td>...</td>\n",
       "      <td>1</td>\n",
       "      <td>0</td>\n",
       "      <td>0</td>\n",
       "      <td>0</td>\n",
       "      <td>0</td>\n",
       "      <td>0</td>\n",
       "      <td>0</td>\n",
       "      <td>0</td>\n",
       "      <td>1</td>\n",
       "      <td>0</td>\n",
       "    </tr>\n",
       "    <tr>\n",
       "      <th>1</th>\n",
       "      <td>1</td>\n",
       "      <td>0</td>\n",
       "      <td>0</td>\n",
       "      <td>0</td>\n",
       "      <td>0</td>\n",
       "      <td>0</td>\n",
       "      <td>1</td>\n",
       "      <td>0</td>\n",
       "      <td>0</td>\n",
       "      <td>1</td>\n",
       "      <td>...</td>\n",
       "      <td>0</td>\n",
       "      <td>0</td>\n",
       "      <td>0</td>\n",
       "      <td>0</td>\n",
       "      <td>1</td>\n",
       "      <td>0</td>\n",
       "      <td>0</td>\n",
       "      <td>0</td>\n",
       "      <td>0</td>\n",
       "      <td>0</td>\n",
       "    </tr>\n",
       "    <tr>\n",
       "      <th>2</th>\n",
       "      <td>1</td>\n",
       "      <td>1</td>\n",
       "      <td>0</td>\n",
       "      <td>0</td>\n",
       "      <td>0</td>\n",
       "      <td>0</td>\n",
       "      <td>0</td>\n",
       "      <td>0</td>\n",
       "      <td>0</td>\n",
       "      <td>1</td>\n",
       "      <td>...</td>\n",
       "      <td>0</td>\n",
       "      <td>0</td>\n",
       "      <td>0</td>\n",
       "      <td>0</td>\n",
       "      <td>0</td>\n",
       "      <td>0</td>\n",
       "      <td>1</td>\n",
       "      <td>0</td>\n",
       "      <td>0</td>\n",
       "      <td>0</td>\n",
       "    </tr>\n",
       "    <tr>\n",
       "      <th>3</th>\n",
       "      <td>0</td>\n",
       "      <td>0</td>\n",
       "      <td>0</td>\n",
       "      <td>0</td>\n",
       "      <td>0</td>\n",
       "      <td>0</td>\n",
       "      <td>1</td>\n",
       "      <td>0</td>\n",
       "      <td>0</td>\n",
       "      <td>0</td>\n",
       "      <td>...</td>\n",
       "      <td>1</td>\n",
       "      <td>0</td>\n",
       "      <td>0</td>\n",
       "      <td>0</td>\n",
       "      <td>0</td>\n",
       "      <td>0</td>\n",
       "      <td>0</td>\n",
       "      <td>0</td>\n",
       "      <td>1</td>\n",
       "      <td>0</td>\n",
       "    </tr>\n",
       "    <tr>\n",
       "      <th>4</th>\n",
       "      <td>1</td>\n",
       "      <td>0</td>\n",
       "      <td>0</td>\n",
       "      <td>0</td>\n",
       "      <td>0</td>\n",
       "      <td>0</td>\n",
       "      <td>1</td>\n",
       "      <td>0</td>\n",
       "      <td>0</td>\n",
       "      <td>1</td>\n",
       "      <td>...</td>\n",
       "      <td>0</td>\n",
       "      <td>0</td>\n",
       "      <td>0</td>\n",
       "      <td>0</td>\n",
       "      <td>1</td>\n",
       "      <td>0</td>\n",
       "      <td>0</td>\n",
       "      <td>0</td>\n",
       "      <td>0</td>\n",
       "      <td>0</td>\n",
       "    </tr>\n",
       "  </tbody>\n",
       "</table>\n",
       "<p>5 rows × 118 columns</p>\n",
       "</div>"
      ],
      "text/plain": [
       "   target  1_b  1_c  1_f  1_k  1_s  1_x  2_f  2_g  2_s  ...  21_s  21_v  21_y  \\\n",
       "0       0    0    0    0    0    0    1    0    0    1  ...     1     0     0   \n",
       "1       1    0    0    0    0    0    1    0    0    1  ...     0     0     0   \n",
       "2       1    1    0    0    0    0    0    0    0    1  ...     0     0     0   \n",
       "3       0    0    0    0    0    0    1    0    0    0  ...     1     0     0   \n",
       "4       1    0    0    0    0    0    1    0    0    1  ...     0     0     0   \n",
       "\n",
       "   22_d  22_g  22_l  22_m  22_p  22_u  22_w  \n",
       "0     0     0     0     0     0     1     0  \n",
       "1     0     1     0     0     0     0     0  \n",
       "2     0     0     0     1     0     0     0  \n",
       "3     0     0     0     0     0     1     0  \n",
       "4     0     1     0     0     0     0     0  \n",
       "\n",
       "[5 rows x 118 columns]"
      ]
     },
     "execution_count": 2,
     "metadata": {},
     "output_type": "execute_result"
    }
   ],
   "source": [
    "df.head()"
   ]
  },
  {
   "cell_type": "markdown",
   "metadata": {},
   "source": [
    "Now, let's set up the reinforcement learning problem. The authors suggest the following model architecture.\n",
    "\n",
    ">In our model, we use a neural network to model $P(r | a,x,w)$, where w are the network weights.\n",
    "At each timestep we are presented with a context x and a set of possible actions {a1, a2, ..., am}. We sample\n",
    "dropout noise d from a uniform distribution, which is used to, in effect, sample from the posterior\n",
    "over the weights w. We unroll the m actions into (x,a) pairs which are passed to the network for inference.\n",
    "We choose the action a whose (x, ai) pair has the highest expected reward.\n",
    "\n",
    ">In the below experiments for the contextual models (including the epsilon-greedy and fixed dropout rate bandits), we use a neural network with 2 hidden layers with\n",
    "256 units each and ReLU activation function. All networks are trained using the Adam optimizer [17] with\n",
    "initial learning rate = 0.001.\n",
    "\n",
    "\n",
    "After choosing the action with the highest expected reward, we update our model via gradient descent.\n"
   ]
  },
  {
   "cell_type": "markdown",
   "metadata": {},
   "source": [
    "A novel proposal suggested by the authors is to use dropout as a way to sample from the posterior distribution of the expected reward function.\n",
    "\n",
    ">Of particular importance to our application is a recent result [12] where dropout training [26] in an arbitrary\n",
    "depth feed-forward neural network with arbitrary nonlinearities is shown to be equivalent to an approximation\n",
    "of the probabilistic deep Gaussian process [11]. In practice this Bayesian interpretation of dropout means that if\n",
    "we turn dropout on at inference time, each stochastic forward pass through the network corresponds to a sample\n",
    "from an approximate posterior over the network weights.This property of dropout at inference time has been used\n",
    "to undertake Thompson sampling to drive exploration in reinforcement learning problems [12]."
   ]
  },
  {
   "cell_type": "markdown",
   "metadata": {},
   "source": [
    "Further, instead of using a static dropout probability, the authors propose using Concrete Dropout.\n",
    "\n",
    ">Under the Bayesian interpretation of dropout, a continuous relaxation of Bernoulli dropout using the Concrete\n",
    "distribution [22] can be realized [13]. This continuous relaxation of dropout, named Concrete Dropout, treats the\n",
    "dropout parameter p (the probability of turning off a node\n",
    "in Bernoulli dropout) as a parameter of the network that\n",
    "can be trained using standard gradient descent methods.\n",
    "Appropriate regularization parameters are then added to\n",
    "the objective function, which trades off between fitting\n",
    "the data and maximizing the entropy of the dropout parameter. As the amount of data increases, the data likelihood term overwhelms the dropout regularization term,\n",
    "which leads to well calibrated uncertainty estimates, and\n",
    "thus appropriate levels of exploration.\n",
    "\n",
    "Read the original paper on Concrete Dropout here: https://pdfs.semanticscholar.org/452a/c69a8af5366778f3be178966433f2b6bf70a.pdf?_ga=2.80494167.1719340469.1565904110-2090621344.1565904110\n",
    "\n",
    "Here is the Keras implementation by one of the authors: https://github.com/yaringal/ConcreteDropout/blob/master/concrete-dropout-keras.ipynb\n",
    "\n",
    "Now, let's move on to the reinforcement learning task."
   ]
  },
  {
   "cell_type": "markdown",
   "metadata": {},
   "source": [
    "### The Mushroom Task\n",
    "\n",
    ">At each timestep, our agent is presented with the\n",
    "features for a mushroom and must decide whether to eat\n",
    "it or not. The agent gets a reward of 1 for eating an\n",
    "edible mushroom, a reward of 0 for eating a poisonous\n",
    "mushroom, and with probability p a reward of 1 for not\n",
    "eating a mushroom. In the below experiments we set\n",
    "p = 0.5.\n",
    "\n",
    "The inputs to the model are all mushroom features, plus one additional binary 'action' feaure. This action feature is the action chosen by the agent - either to eat or not eat the mushroom. We create two records with the same mushroom features, but different action features. We score both records using the model, and choose the record that has the highest score.\n",
    "\n",
    "After observing the reward, the model weights are updated via gradient descent. We do this for thousands of timesteps."
   ]
  },
  {
   "cell_type": "code",
   "execution_count": 3,
   "metadata": {},
   "outputs": [
    {
     "name": "stderr",
     "output_type": "stream",
     "text": [
      "WARNING: Logging before flag parsing goes to stderr.\n",
      "W0909 16:11:35.519476  9188 deprecation_wrapper.py:119] From C:\\Users\\u365296\\AppData\\Local\\Continuum\\anaconda3\\lib\\site-packages\\keras\\backend\\tensorflow_backend.py:74: The name tf.get_default_graph is deprecated. Please use tf.compat.v1.get_default_graph instead.\n",
      "\n",
      "W0909 16:11:35.544583  9188 deprecation_wrapper.py:119] From C:\\Users\\u365296\\AppData\\Local\\Continuum\\anaconda3\\lib\\site-packages\\keras\\backend\\tensorflow_backend.py:517: The name tf.placeholder is deprecated. Please use tf.compat.v1.placeholder instead.\n",
      "\n",
      "W0909 16:11:35.548602  9188 deprecation_wrapper.py:119] From C:\\Users\\u365296\\AppData\\Local\\Continuum\\anaconda3\\lib\\site-packages\\keras\\backend\\tensorflow_backend.py:4138: The name tf.random_uniform is deprecated. Please use tf.random.uniform instead.\n",
      "\n",
      "W0909 16:11:35.594756  9188 deprecation_wrapper.py:119] From C:\\Users\\u365296\\AppData\\Local\\Continuum\\anaconda3\\lib\\site-packages\\keras\\backend\\tensorflow_backend.py:1521: The name tf.log is deprecated. Please use tf.math.log instead.\n",
      "\n",
      "W0909 16:11:35.701762  9188 deprecation_wrapper.py:119] From C:\\Users\\u365296\\AppData\\Local\\Continuum\\anaconda3\\lib\\site-packages\\keras\\optimizers.py:790: The name tf.train.Optimizer is deprecated. Please use tf.compat.v1.train.Optimizer instead.\n",
      "\n",
      "W0909 16:11:35.729895  9188 deprecation.py:323] From C:\\Users\\u365296\\AppData\\Local\\Continuum\\anaconda3\\lib\\site-packages\\tensorflow\\python\\ops\\nn_impl.py:180: add_dispatch_support.<locals>.wrapper (from tensorflow.python.ops.array_ops) is deprecated and will be removed in a future version.\n",
      "Instructions for updating:\n",
      "Use tf.where in 2.0, which has the same broadcast rule as np.where\n",
      "  0%|          | 0/50000 [00:00<?, ?it/s]W0909 16:11:35.759925  9188 deprecation_wrapper.py:119] From C:\\Users\\u365296\\AppData\\Local\\Continuum\\anaconda3\\lib\\site-packages\\keras\\backend\\tensorflow_backend.py:2741: The name tf.Session is deprecated. Please use tf.compat.v1.Session instead.\n",
      "\n",
      "100%|██████████| 50000/50000 [11:05<00:00, 75.10it/s] \n"
     ]
    }
   ],
   "source": [
    "from tqdm import tqdm\n",
    "#Create model structure\n",
    "model = Sequential()\n",
    "model.add(Dense(256, input_dim=118, activation='relu'))\n",
    "model.add(ConcreteDropout(Dense(256, activation='relu')))\n",
    "model.add(ConcreteDropout(Dense(1, activation='sigmoid')))\n",
    "model.compile(loss='binary_crossentropy', optimizer='adam')\n",
    "\n",
    "steps = 50000\n",
    "\n",
    "rewards = [0 for i in range(steps)]\n",
    "oracle = [0 for i in range(steps)]\n",
    "ps = [0 for i in range(steps)]\n",
    "\n",
    "for i in tqdm(range(steps)):\n",
    "    # Sample a random mushroom\n",
    "    u = df.iloc[[i % df.shape[0]]]\n",
    "    t = u['target']\n",
    "    u = u.drop('target',axis='columns')\n",
    "    v = deepcopy(u)\n",
    "    \n",
    "    # One record for eat, one record for don't eat\n",
    "    u['action'] = 1\n",
    "    v['action'] = 0\n",
    "    \n",
    "    # Score both actions\n",
    "    a = model.predict(u.values)\n",
    "    b = model.predict(v.values)\n",
    "    \n",
    "    # Choose action w/ higher expected reward\n",
    "    results = pd.DataFrame()\n",
    "\n",
    "    ran = random.uniform(0,1)\n",
    "    \n",
    "    # if safe\n",
    "    if t.values[0] == 1:\n",
    "        oracle[i] = 1\n",
    "        \n",
    "        #if eat\n",
    "        if a >= b:\n",
    "            u['reward'] = 1\n",
    "            rewards[i] = 1\n",
    "            results = pd.concat([results,u])\n",
    "\n",
    "        #dont eat\n",
    "        elif b > a:\n",
    "            if ran > .5:\n",
    "                rewards[i] = 1\n",
    "                v['reward'] = 1\n",
    "            else:\n",
    "                v['reward'] = 0\n",
    "            results = pd.concat([results,v])\n",
    "               \n",
    "    # if poisonous\n",
    "    elif t.values[0] == 0:\n",
    "        if ran > .5:\n",
    "            oracle[i] = 1\n",
    "        #if eat\n",
    "        if a >= b:\n",
    "            u['reward'] = 0\n",
    "            results = pd.concat([results,u])\n",
    "\n",
    "        #dont eat\n",
    "        elif b > a:\n",
    "            if ran > .5:\n",
    "                rewards[i] = 1\n",
    "                v['reward'] = 1\n",
    "            else:\n",
    "                v['reward'] = 0\n",
    "            \n",
    "            results = pd.concat([results,v])\n",
    "    \n",
    "\n",
    "    y = results.reward\n",
    "    X = results.drop('reward',axis='columns')\n",
    "    model.fit(X.values,y.values,verbose=False)\n",
    "    \n",
    "    weights, biases, p = model.layers[1].get_weights()\n",
    "    ps[i] = scipy.special.expit(p)"
   ]
  },
  {
   "cell_type": "markdown",
   "metadata": {},
   "source": [
    "We can observe the cumulative 'regret', or difference between the actions of our agent and those of an omniscient 'oracle' who always make the correct choice (i.e. eating a safe mushroom, not eating a poisonous mushroom).\n",
    "\n",
    "This curve will flatten out over time as the agent becomes proficient at choosing the correct action."
   ]
  },
  {
   "cell_type": "code",
   "execution_count": 4,
   "metadata": {},
   "outputs": [
    {
     "data": {
      "text/plain": [
       "<matplotlib.axes._subplots.AxesSubplot at 0x2f3dfbf8c88>"
      ]
     },
     "execution_count": 4,
     "metadata": {},
     "output_type": "execute_result"
    },
    {
     "data": {
      "image/png": "[encoded data removed]",
      "text/plain": [
       "<Figure size 432x288 with 1 Axes>"
      ]
     },
     "metadata": {
      "needs_background": "light"
     },
     "output_type": "display_data"
    }
   ],
   "source": [
    "cumulative_reward = pd.Series(rewards).cumsum()\n",
    "oracle_reward = pd.Series(oracle).cumsum()\n",
    "cumulative_regret = oracle_reward - cumulative_reward\n",
    "\n",
    "# Regret is the difference in reward between chosen action and perfect 'oracle'\n",
    "import seaborn as sns\n",
    "sns.lineplot(x=range(steps),y=cumulative_regret)"
   ]
  },
  {
   "cell_type": "markdown",
   "metadata": {},
   "source": [
    "The dropout probability will become smaller as the model observes more data and becomes more confident."
   ]
  },
  {
   "cell_type": "code",
   "execution_count": 5,
   "metadata": {},
   "outputs": [
    {
     "data": {
      "text/plain": [
       "<matplotlib.axes._subplots.AxesSubplot at 0x2f3f9cfbd68>"
      ]
     },
     "execution_count": 5,
     "metadata": {},
     "output_type": "execute_result"
    },
    {
     "data": {
      "image/png": "[encoded data removed]",
      "text/plain": [
       "<Figure size 432x288 with 1 Axes>"
      ]
     },
     "metadata": {
      "needs_background": "light"
     },
     "output_type": "display_data"
    }
   ],
   "source": [
    "# The dropout probabality decreases as the model becomes more confident\n",
    "pss = [x[0] for x in ps]\n",
    "sns.lineplot(x=range(steps),y=pss)"
   ]
  }
 ],
 "metadata": {
  "kernelspec": {
   "display_name": "Python 3",
   "language": "python",
   "name": "python3"
  },
  "language_info": {
   "codemirror_mode": {
    "name": "ipython",
    "version": 3
   },
   "file_extension": ".py",
   "mimetype": "text/x-python",
   "name": "python",
   "nbconvert_exporter": "python",
   "pygments_lexer": "ipython3",
   "version": "3.7.3"
  }
 },
 "nbformat": 4,
 "nbformat_minor": 2
}
